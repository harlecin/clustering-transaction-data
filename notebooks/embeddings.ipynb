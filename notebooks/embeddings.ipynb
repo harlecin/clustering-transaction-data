{
 "cells": [
  {
   "cell_type": "markdown",
   "source": [
    "# Embeddings for Transaction Data with PyTorch\n",
    "\n",
    "Embeddings are very popular in the computer vision and natural language processing \n",
    "domain. In this blog post I want to explore how we can use a deep learning technique called 'embeddings'\n",
    "to gain insights into the structure of transaction data produced by customers at grocery stores.\n",
    "\n",
    "I will use an anonymised dataset provided by Riccardo Guidotti on his Github [page](https://github.com/riccotti/TX-Means/tree/master/dataset)\n",
    "that records sales transactions of customers in an Italian supermarket chain."
   ],
   "metadata": {
    "collapsed": false,
    "pycharm": {
     "name": "#%% md\n"
    }
   }
  },
  {
   "cell_type": "code",
   "execution_count": 24,
   "outputs": [
    {
     "name": "stdout",
     "text": [
      "{\n",
      "  \"shell_port\": 53562,\n",
      "  \"iopub_port\": 53563,\n",
      "  \"stdin_port\": 53564,\n",
      "  \"control_port\": 53565,\n",
      "  \"hb_port\": 53566,\n",
      "  \"ip\": \"127.0.0.1\",\n",
      "  \"key\": \"8ec0c2e4-29b4f11c2c9dae17b82c04b1\",\n",
      "  \"transport\": \"tcp\",\n",
      "  \"signature_scheme\": \"hmac-sha256\",\n",
      "  \"kernel_name\": \"\"\n",
      "}\n",
      "\n",
      "Paste the above JSON into a file, and connect with:\n",
      "    $> jupyter <app> --existing <file>\n",
      "or, if you are local, you can connect with just:\n",
      "    $> jupyter <app> --existing kernel-edb25871-9db7-4017-a231-632eed23f88a.json\n",
      "or even just:\n",
      "    $> jupyter <app> --existing\n",
      "if this is the most recent Jupyter kernel you have started.\n",
      "The autoreload extension is already loaded. To reload it, use:\n",
      "  %reload_ext autoreload\n"
     ],
     "output_type": "stream"
    }
   ],
   "source": [
    "%connect_info\n",
    "%load_ext autoreload\n",
    "%autoreload 1"
   ],
   "metadata": {
    "collapsed": false,
    "pycharm": {
     "name": "#%%\n",
     "is_executing": false
    }
   }
  },
  {
   "cell_type": "code",
   "execution_count": 23,
   "outputs": [
    {
     "name": "stdout",
     "text": [
      "test2\n",
      "test3\n"
     ],
     "output_type": "stream"
    },
    {
     "data": {
      "text/plain": "  customer_id basket_id item_id\n0           0         0      10\n1           0         0      12\n2           0         0      13\n3           0         0      15\n4           0         0      20",
      "text/html": "<div>\n<style scoped>\n    .dataframe tbody tr th:only-of-type {\n        vertical-align: middle;\n    }\n\n    .dataframe tbody tr th {\n        vertical-align: top;\n    }\n\n    .dataframe thead th {\n        text-align: right;\n    }\n</style>\n<table border=\"1\" class=\"dataframe\">\n  <thead>\n    <tr style=\"text-align: right;\">\n      <th></th>\n      <th>customer_id</th>\n      <th>basket_id</th>\n      <th>item_id</th>\n    </tr>\n  </thead>\n  <tbody>\n    <tr>\n      <th>0</th>\n      <td>0</td>\n      <td>0</td>\n      <td>10</td>\n    </tr>\n    <tr>\n      <th>1</th>\n      <td>0</td>\n      <td>0</td>\n      <td>12</td>\n    </tr>\n    <tr>\n      <th>2</th>\n      <td>0</td>\n      <td>0</td>\n      <td>13</td>\n    </tr>\n    <tr>\n      <th>3</th>\n      <td>0</td>\n      <td>0</td>\n      <td>15</td>\n    </tr>\n    <tr>\n      <th>4</th>\n      <td>0</td>\n      <td>0</td>\n      <td>20</td>\n    </tr>\n  </tbody>\n</table>\n</div>"
     },
     "metadata": {},
     "output_type": "execute_result",
     "execution_count": 23
    }
   ],
   "source": [
    "import src.test\n",
    "import pandas as pd\n",
    "\n",
    "pd_data = pd.read_csv(filepath_or_buffer=\"../data/sample_real_data.csv\", dtype='category')\n",
    "\n",
    "pd_data.head()"
   ],
   "metadata": {
    "collapsed": false,
    "pycharm": {
     "name": "#%%\n",
     "is_executing": false
    }
   }
  },
  {
   "cell_type": "markdown",
   "source": [
    "For each customer, we record the shopping basket (basket_id) and the specific items in the basket (item_id)\n",
    "\n",
    "Before we continue, let's take a brief look at some summary statistics:"
   ],
   "metadata": {
    "collapsed": false,
    "pycharm": {
     "name": "#%% md\n"
    }
   }
  },
  {
   "cell_type": "code",
   "execution_count": 6,
   "outputs": [
    {
     "data": {
      "text/plain": "       customer_id basket_id item_id\ncount       329169    329169  329169\nunique         100      1044     234\ntop             76       820       4\nfreq         12410      3575    8516",
      "text/html": "<div>\n<style scoped>\n    .dataframe tbody tr th:only-of-type {\n        vertical-align: middle;\n    }\n\n    .dataframe tbody tr th {\n        vertical-align: top;\n    }\n\n    .dataframe thead th {\n        text-align: right;\n    }\n</style>\n<table border=\"1\" class=\"dataframe\">\n  <thead>\n    <tr style=\"text-align: right;\">\n      <th></th>\n      <th>customer_id</th>\n      <th>basket_id</th>\n      <th>item_id</th>\n    </tr>\n  </thead>\n  <tbody>\n    <tr>\n      <th>count</th>\n      <td>329169</td>\n      <td>329169</td>\n      <td>329169</td>\n    </tr>\n    <tr>\n      <th>unique</th>\n      <td>100</td>\n      <td>1044</td>\n      <td>234</td>\n    </tr>\n    <tr>\n      <th>top</th>\n      <td>76</td>\n      <td>820</td>\n      <td>4</td>\n    </tr>\n    <tr>\n      <th>freq</th>\n      <td>12410</td>\n      <td>3575</td>\n      <td>8516</td>\n    </tr>\n  </tbody>\n</table>\n</div>"
     },
     "metadata": {},
     "output_type": "execute_result",
     "execution_count": 6
    }
   ],
   "source": [
    "pd.DataFrame.describe(pd_data)"
   ],
   "metadata": {
    "collapsed": false,
    "pycharm": {
     "name": "#%%\n",
     "is_executing": false
    }
   }
  },
  {
   "cell_type": "markdown",
   "source": [
    "We have a total of 100 unique customers producing about 10 baskets each with 234 unique items. Item 4 is the most \n",
    "frequent with about 8.5k occurrences.\n",
    "\n",
    "https://yashuseth.blog/2018/07/22/pytorch-neural-network-for-tabular-data-with-categorical-embeddings/\n",
    "\n",
    "\n"
   ],
   "metadata": {
    "collapsed": false,
    "pycharm": {
     "name": "#%% md\n"
    }
   }
  }
 ],
 "metadata": {
  "kernelspec": {
   "name": "fastai",
   "language": "python",
   "display_name": "Python (fastai)"
  },
  "language_info": {
   "codemirror_mode": {
    "name": "ipython",
    "version": 2
   },
   "file_extension": ".py",
   "mimetype": "text/x-python",
   "name": "python",
   "nbconvert_exporter": "python",
   "pygments_lexer": "ipython2",
   "version": "2.7.6"
  },
  "pycharm": {
   "stem_cell": {
    "cell_type": "raw",
    "source": [],
    "metadata": {
     "collapsed": false
    }
   }
  }
 },
 "nbformat": 4,
 "nbformat_minor": 0
}